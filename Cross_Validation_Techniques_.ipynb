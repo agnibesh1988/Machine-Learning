{
  "nbformat": 4,
  "nbformat_minor": 0,
  "metadata": {
    "colab": {
      "name": "Cross Validation - Techniques .ipynb",
      "provenance": [],
      "collapsed_sections": []
    },
    "kernelspec": {
      "name": "python3",
      "display_name": "Python 3"
    }
  },
  "cells": [
    {
      "cell_type": "code",
      "metadata": {
        "id": "EEhR15A8PQH0",
        "colab_type": "code",
        "colab": {}
      },
      "source": [
        "import pandas as pd\n",
        "import numpy as np\n",
        "from sklearn.datasets import make_classification\n",
        "from sklearn.datasets import load_breast_cancer\n",
        "from sklearn.model_selection import train_test_split\n",
        "from sklearn.model_selection import cross_val_score\n",
        "\n",
        "from sklearn.model_selection import KFold\n",
        "from sklearn.model_selection import StratifiedKFold\n",
        "\n",
        "from sklearn.ensemble import RandomForestClassifier\n",
        "from sklearn.svm import SVC\n",
        "from sklearn.linear_model import LogisticRegression"
      ],
      "execution_count": 8,
      "outputs": []
    },
    {
      "cell_type": "code",
      "metadata": {
        "id": "MHoISdtBRHcb",
        "colab_type": "code",
        "colab": {}
      },
      "source": [
        "df = load_breast_cancer()"
      ],
      "execution_count": null,
      "outputs": []
    },
    {
      "cell_type": "code",
      "metadata": {
        "id": "AA_zUnRURS6O",
        "colab_type": "code",
        "colab": {}
      },
      "source": [
        "X_train, X_test, y_train, y_test = train_test_split(df.data, df.target, \n",
        "                                               test_size=0.33, random_state=42)"
      ],
      "execution_count": null,
      "outputs": []
    },
    {
      "cell_type": "code",
      "metadata": {
        "id": "pU9ZqzMRRWhn",
        "colab_type": "code",
        "colab": {}
      },
      "source": [
        "kf = KFold(n_splits=3)"
      ],
      "execution_count": null,
      "outputs": []
    },
    {
      "cell_type": "code",
      "metadata": {
        "id": "yGtN0cApTYxY",
        "colab_type": "code",
        "colab": {
          "base_uri": "https://localhost:8080/",
          "height": 70
        },
        "outputId": "99755402-ef75-4f9c-84e3-72e54c8ecebd"
      },
      "source": [
        "for train_index, test_index in kf.split([1,2,3,4,5,6,7,8,9]):\n",
        "  print(train_index,'|+|', test_index)"
      ],
      "execution_count": null,
      "outputs": [
        {
          "output_type": "stream",
          "text": [
            "[3 4 5 6 7 8] |+| [0 1 2]\n",
            "[0 1 2 6 7 8] |+| [3 4 5]\n",
            "[0 1 2 3 4 5] |+| [6 7 8]\n"
          ],
          "name": "stdout"
        }
      ]
    },
    {
      "cell_type": "code",
      "metadata": {
        "id": "ekduZofOTxHm",
        "colab_type": "code",
        "colab": {}
      },
      "source": [
        "skf = StratifiedKFold(n_splits=3)"
      ],
      "execution_count": null,
      "outputs": []
    },
    {
      "cell_type": "code",
      "metadata": {
        "id": "EZ56LsC7idNs",
        "colab_type": "code",
        "colab": {}
      },
      "source": [
        "RandomForestClassifier(n_estimators=)"
      ],
      "execution_count": null,
      "outputs": []
    },
    {
      "cell_type": "markdown",
      "metadata": {
        "id": "XBwciILS2EiH",
        "colab_type": "text"
      },
      "source": [
        "***StratifiedKFold - Only test Score***"
      ]
    },
    {
      "cell_type": "code",
      "metadata": {
        "id": "lc1C1AC6bKZs",
        "colab_type": "code",
        "colab": {}
      },
      "source": [
        "def model_performance(model,x,y,n_splits):\n",
        "  skf = StratifiedKFold(n_splits=n_splits)\n",
        "  model_score = []\n",
        "\n",
        "  for train_index, test_index in skf.split(x,y):\n",
        "    X_train, X_test = x[train_index], x[test_index]\n",
        "    y_train, y_test = y[train_index], y[test_index]\n",
        "\n",
        "    model.fit(X_train,y_train)\n",
        "    model_score.append(model.score(X_test,y_test))\n",
        "\n",
        "    if len(model_score) == n_splits:\n",
        "      return (np.mean(model_score))"
      ],
      "execution_count": null,
      "outputs": []
    },
    {
      "cell_type": "markdown",
      "metadata": {
        "id": "oQsZJYJU2B1n",
        "colab_type": "text"
      },
      "source": [
        "***StratifiedKFold - with train & test Score***"
      ]
    },
    {
      "cell_type": "code",
      "metadata": {
        "id": "3_t-YxM_2AVj",
        "colab_type": "code",
        "colab": {}
      },
      "source": [
        "def model_performance(model,x,y,n_splits):\n",
        "  skf = StratifiedKFold(n_splits=n_splits)\n",
        "  train_model_score = []\n",
        "  test_model_score = []\n",
        "\n",
        "  for train_index, test_index in skf.split(x,y):\n",
        "    X_train, X_test = x[train_index], x[test_index]\n",
        "    y_train, y_test = y[train_index], y[test_index]\n",
        "\n",
        "    model.fit(X_train,y_train)\n",
        "    train_model_score.append(model.score(X_train,y_train))    \n",
        "    test_model_score.append(model.score(X_test,y_test))\n",
        "\n",
        "    if len(test_model_score) == n_splits:\n",
        "      return [np.mean(train_model_score),np.mean(test_model_score)]\n"
      ],
      "execution_count": 3,
      "outputs": []
    },
    {
      "cell_type": "code",
      "metadata": {
        "id": "WkDxkkLHed5G",
        "colab_type": "code",
        "colab": {
          "base_uri": "https://localhost:8080/",
          "height": 34
        },
        "outputId": "f43ac2bd-3414-4d3d-8076-53f4d500fd0f"
      },
      "source": [
        "model_performance(RandomForestClassifier(),df.data,df.target,10)"
      ],
      "execution_count": null,
      "outputs": [
        {
          "output_type": "execute_result",
          "data": {
            "text/plain": [
              "0.9666666666666668"
            ]
          },
          "metadata": {
            "tags": []
          },
          "execution_count": 85
        }
      ]
    },
    {
      "cell_type": "code",
      "metadata": {
        "id": "laVB4QpefTsi",
        "colab_type": "code",
        "colab": {
          "base_uri": "https://localhost:8080/",
          "height": 34
        },
        "outputId": "648c7626-32ea-45ad-b027-1f5fe09a896b"
      },
      "source": [
        "model_performance(SVC(),df.data,df.target,10)"
      ],
      "execution_count": null,
      "outputs": [
        {
          "output_type": "execute_result",
          "data": {
            "text/plain": [
              "0.9138784461152882"
            ]
          },
          "metadata": {
            "tags": []
          },
          "execution_count": 104
        }
      ]
    },
    {
      "cell_type": "markdown",
      "metadata": {
        "id": "zIBTZO-I2sMY",
        "colab_type": "text"
      },
      "source": [
        "### Compare models by applying StratifiedKFold"
      ]
    },
    {
      "cell_type": "code",
      "metadata": {
        "id": "xkpkNc8_4ey-",
        "colab_type": "code",
        "colab": {}
      },
      "source": [
        "X, y = make_classification(n_samples=100,\n",
        "                           n_classes = 2,\n",
        "                          # n_informative = 9, incase n_class is more than 2\n",
        "                           n_features = 5,\n",
        "                           n_redundant= 0,\n",
        "                           random_state =1)"
      ],
      "execution_count": 4,
      "outputs": []
    },
    {
      "cell_type": "code",
      "metadata": {
        "id": "maOb_gXE2q2I",
        "colab_type": "code",
        "colab": {}
      },
      "source": [
        "from sklearn.neural_network import MLPClassifier\n",
        "from sklearn.neighbors import KNeighborsClassifier\n",
        "from sklearn.svm import SVC\n",
        "from sklearn.gaussian_process import GaussianProcessClassifier\n",
        "from sklearn.ensemble import GradientBoostingClassifier\n",
        "from sklearn.gaussian_process.kernels import RBF\n",
        "from sklearn.tree import DecisionTreeClassifier\n",
        "from sklearn.ensemble import ExtraTreesClassifier\n",
        "from sklearn.ensemble import RandomForestClassifier, AdaBoostClassifier\n",
        "from sklearn.naive_bayes import GaussianNB\n",
        "from sklearn.discriminant_analysis import QuadraticDiscriminantAnalysis\n",
        "from sklearn.linear_model import SGDClassifier"
      ],
      "execution_count": 5,
      "outputs": []
    },
    {
      "cell_type": "code",
      "metadata": {
        "id": "yCvLpfcN26of",
        "colab_type": "code",
        "colab": {}
      },
      "source": [
        "model_classifiers =\\\n",
        " {'K-Nearest_Neighbors': KNeighborsClassifier(3),\n",
        "  'Linear_SVM'         : SVC(kernel=\"linear\", C=0.025),\n",
        "  'Polynomial_SVM'     : SVC(kernel=\"poly\", degree=3, C=0.025),\n",
        "  'RBF_SVM'            : SVC(kernel=\"rbf\", C=1, gamma=2),\n",
        "  'Gaussian_Process'   : GaussianProcessClassifier(1.0 * RBF(1.0)),\n",
        "  'Gradient_Boosting'  : GradientBoostingClassifier(n_estimators=100, \n",
        "                                                    learning_rate=1.0),\n",
        "  'Decision_Tree'      : DecisionTreeClassifier(max_depth=5),\n",
        "  'Extra_Trees'        : ExtraTreesClassifier(n_estimators=10,\n",
        "                                              min_samples_split=2),\n",
        "  'Random_Forest'      : RandomForestClassifier(max_depth=5, n_estimators=100),\n",
        "  'Neural_Net'         : MLPClassifier(alpha=1, max_iter=1000),\n",
        "  'AdaBoost'           : AdaBoostClassifier(n_estimators=100),\n",
        "  'Naive_Bayes'        : GaussianNB(),\n",
        "  'QDA'                : QuadraticDiscriminantAnalysis(),\n",
        "  'SGD'                : SGDClassifier(loss=\"hinge\", penalty=\"l2\")}"
      ],
      "execution_count": 31,
      "outputs": []
    },
    {
      "cell_type": "code",
      "metadata": {
        "id": "JNW1DOIl29Q2",
        "colab_type": "code",
        "colab": {
          "base_uri": "https://localhost:8080/",
          "height": 462
        },
        "outputId": "67fdf9b5-7f1b-436d-e403-bc779f727963"
      },
      "source": [
        "classifiers = {}\n",
        "for i in model_classifiers.keys():\n",
        "  # using the function StratifiedKFold - with train & test Score\n",
        "  classifiers[i] = model_performance(model_classifiers[i],X,y,5) \n",
        "pd.DataFrame(classifiers,index=['Train Score','Test Score']).transpose()\n",
        "  "
      ],
      "execution_count": 33,
      "outputs": [
        {
          "output_type": "execute_result",
          "data": {
            "text/html": [
              "<div>\n",
              "<style scoped>\n",
              "    .dataframe tbody tr th:only-of-type {\n",
              "        vertical-align: middle;\n",
              "    }\n",
              "\n",
              "    .dataframe tbody tr th {\n",
              "        vertical-align: top;\n",
              "    }\n",
              "\n",
              "    .dataframe thead th {\n",
              "        text-align: right;\n",
              "    }\n",
              "</style>\n",
              "<table border=\"1\" class=\"dataframe\">\n",
              "  <thead>\n",
              "    <tr style=\"text-align: right;\">\n",
              "      <th></th>\n",
              "      <th>Train Score</th>\n",
              "      <th>Test Score</th>\n",
              "    </tr>\n",
              "  </thead>\n",
              "  <tbody>\n",
              "    <tr>\n",
              "      <th>K-Nearest_Neighbors</th>\n",
              "      <td>0.9575</td>\n",
              "      <td>0.96</td>\n",
              "    </tr>\n",
              "    <tr>\n",
              "      <th>Linear_SVM</th>\n",
              "      <td>0.9500</td>\n",
              "      <td>0.95</td>\n",
              "    </tr>\n",
              "    <tr>\n",
              "      <th>Polynomial_SVM</th>\n",
              "      <td>0.5300</td>\n",
              "      <td>0.52</td>\n",
              "    </tr>\n",
              "    <tr>\n",
              "      <th>RBF_SVM</th>\n",
              "      <td>1.0000</td>\n",
              "      <td>0.78</td>\n",
              "    </tr>\n",
              "    <tr>\n",
              "      <th>Gaussian_Process</th>\n",
              "      <td>0.9525</td>\n",
              "      <td>0.95</td>\n",
              "    </tr>\n",
              "    <tr>\n",
              "      <th>Gradient_Boosting</th>\n",
              "      <td>1.0000</td>\n",
              "      <td>0.93</td>\n",
              "    </tr>\n",
              "    <tr>\n",
              "      <th>Decision_Tree</th>\n",
              "      <td>1.0000</td>\n",
              "      <td>0.91</td>\n",
              "    </tr>\n",
              "    <tr>\n",
              "      <th>Extra_Trees</th>\n",
              "      <td>1.0000</td>\n",
              "      <td>0.91</td>\n",
              "    </tr>\n",
              "    <tr>\n",
              "      <th>Random_Forest</th>\n",
              "      <td>1.0000</td>\n",
              "      <td>0.93</td>\n",
              "    </tr>\n",
              "    <tr>\n",
              "      <th>Neural_Net</th>\n",
              "      <td>0.9575</td>\n",
              "      <td>0.95</td>\n",
              "    </tr>\n",
              "    <tr>\n",
              "      <th>AdaBoost</th>\n",
              "      <td>1.0000</td>\n",
              "      <td>0.92</td>\n",
              "    </tr>\n",
              "    <tr>\n",
              "      <th>Naive_Bayes</th>\n",
              "      <td>0.9525</td>\n",
              "      <td>0.95</td>\n",
              "    </tr>\n",
              "    <tr>\n",
              "      <th>QDA</th>\n",
              "      <td>0.9525</td>\n",
              "      <td>0.95</td>\n",
              "    </tr>\n",
              "    <tr>\n",
              "      <th>SGD</th>\n",
              "      <td>0.9425</td>\n",
              "      <td>0.94</td>\n",
              "    </tr>\n",
              "  </tbody>\n",
              "</table>\n",
              "</div>"
            ],
            "text/plain": [
              "                     Train Score  Test Score\n",
              "K-Nearest_Neighbors       0.9575        0.96\n",
              "Linear_SVM                0.9500        0.95\n",
              "Polynomial_SVM            0.5300        0.52\n",
              "RBF_SVM                   1.0000        0.78\n",
              "Gaussian_Process          0.9525        0.95\n",
              "Gradient_Boosting         1.0000        0.93\n",
              "Decision_Tree             1.0000        0.91\n",
              "Extra_Trees               1.0000        0.91\n",
              "Random_Forest             1.0000        0.93\n",
              "Neural_Net                0.9575        0.95\n",
              "AdaBoost                  1.0000        0.92\n",
              "Naive_Bayes               0.9525        0.95\n",
              "QDA                       0.9525        0.95\n",
              "SGD                       0.9425        0.94"
            ]
          },
          "metadata": {
            "tags": []
          },
          "execution_count": 33
        }
      ]
    },
    {
      "cell_type": "markdown",
      "metadata": {
        "id": "uXHWinJEQM94",
        "colab_type": "text"
      },
      "source": [
        "***Check cross_val_score***"
      ]
    },
    {
      "cell_type": "code",
      "metadata": {
        "id": "fO_OIy-7QOUR",
        "colab_type": "code",
        "colab": {
          "base_uri": "https://localhost:8080/",
          "height": 34
        },
        "outputId": "766211c1-c4d0-47a7-d6d7-33346157d005"
      },
      "source": [
        "cross_val_score(RandomForestClassifier(),X,y,cv=3,scoring='accuracy')"
      ],
      "execution_count": 11,
      "outputs": [
        {
          "output_type": "execute_result",
          "data": {
            "text/plain": [
              "array([0.97058824, 0.93939394, 0.87878788])"
            ]
          },
          "metadata": {
            "tags": []
          },
          "execution_count": 11
        }
      ]
    },
    {
      "cell_type": "code",
      "metadata": {
        "id": "57xcrzlhQwxE",
        "colab_type": "code",
        "colab": {
          "base_uri": "https://localhost:8080/",
          "height": 34
        },
        "outputId": "a6c5e5ea-ce4c-4516-8e1d-c3a9b60e0130"
      },
      "source": [
        "cross_val_score(AdaBoostClassifier(),X,y,cv=10,scoring='accuracy').mean()"
      ],
      "execution_count": 27,
      "outputs": [
        {
          "output_type": "execute_result",
          "data": {
            "text/plain": [
              "0.9299999999999999"
            ]
          },
          "metadata": {
            "tags": []
          },
          "execution_count": 27
        }
      ]
    },
    {
      "cell_type": "code",
      "metadata": {
        "id": "Pw1h0mMtRJv8",
        "colab_type": "code",
        "colab": {
          "base_uri": "https://localhost:8080/",
          "height": 34
        },
        "outputId": "cba1962d-883f-45bc-f152-23dff5571125"
      },
      "source": [
        "cross_val_score(AdaBoostClassifier(),X,y,cv=20,scoring='accuracy').mean()"
      ],
      "execution_count": 30,
      "outputs": [
        {
          "output_type": "execute_result",
          "data": {
            "text/plain": [
              "0.93"
            ]
          },
          "metadata": {
            "tags": []
          },
          "execution_count": 30
        }
      ]
    },
    {
      "cell_type": "code",
      "metadata": {
        "id": "c4oV3AlPVtJ5",
        "colab_type": "code",
        "colab": {}
      },
      "source": [
        ""
      ],
      "execution_count": null,
      "outputs": []
    }
  ]
}