{
  "nbformat": 4,
  "nbformat_minor": 0,
  "metadata": {
    "colab": {
      "name": "Feature Scaling.ipynb",
      "provenance": [],
      "collapsed_sections": [],
      "toc_visible": true
    },
    "kernelspec": {
      "name": "python3",
      "display_name": "Python 3"
    }
  },
  "cells": [
    {
      "cell_type": "markdown",
      "metadata": {
        "id": "ubT4lm4J5t3d",
        "colab_type": "text"
      },
      "source": [
        "## **Feature Scaling**\n",
        "\n",
        "---\n",
        "\n",
        "\n",
        "\n",
        "---\n",
        "\n"
      ]
    },
    {
      "cell_type": "code",
      "metadata": {
        "id": "c2uhLUQb5sTX",
        "colab_type": "code",
        "colab": {}
      },
      "source": [
        "from sklearn.preprocessing import MinMaxScaler\n",
        "from sklearn.preprocessing import StandardScaler\n",
        "\n",
        "\n",
        "import numpy as np\n",
        "import pandas as pd\n",
        "import matplotlib.pyplot as plt\n",
        "import seaborn as sns"
      ],
      "execution_count": 22,
      "outputs": []
    },
    {
      "cell_type": "code",
      "metadata": {
        "id": "5LgM6Pu2noDT",
        "colab_type": "code",
        "colab": {}
      },
      "source": [
        "%matplotlib inline\n",
        "sns.set_style('darkgrid')"
      ],
      "execution_count": 21,
      "outputs": []
    },
    {
      "cell_type": "code",
      "metadata": {
        "id": "80MUiNIf7Njp",
        "colab_type": "code",
        "colab": {
          "base_uri": "https://localhost:8080/",
          "height": 105
        },
        "outputId": "040c2a99-1a81-4463-8221-2f192a3725a7"
      },
      "source": [
        "x = np.array([-400,-100,0,100,400]).reshape(-1,1)\n",
        "x"
      ],
      "execution_count": null,
      "outputs": [
        {
          "output_type": "execute_result",
          "data": {
            "text/plain": [
              "array([[-400],\n",
              "       [-100],\n",
              "       [   0],\n",
              "       [ 100],\n",
              "       [ 400]])"
            ]
          },
          "metadata": {
            "tags": []
          },
          "execution_count": 28
        }
      ]
    },
    {
      "cell_type": "markdown",
      "metadata": {
        "id": "mopXw-mvAf9k",
        "colab_type": "text"
      },
      "source": [
        "#### MinMaxScaler \n",
        "***(Xi - Xmin)/(Xmax-Xmin)***"
      ]
    },
    {
      "cell_type": "code",
      "metadata": {
        "id": "EGbsG00P7bjs",
        "colab_type": "code",
        "colab": {}
      },
      "source": [
        "min_max_scaler = MinMaxScaler()"
      ],
      "execution_count": null,
      "outputs": []
    },
    {
      "cell_type": "code",
      "metadata": {
        "id": "dOZ2-H1p7erL",
        "colab_type": "code",
        "colab": {}
      },
      "source": [
        "x_scale = min_max_scaler.fit_transform(x)"
      ],
      "execution_count": null,
      "outputs": []
    },
    {
      "cell_type": "code",
      "metadata": {
        "id": "fyd03TUA_-DU",
        "colab_type": "code",
        "colab": {
          "base_uri": "https://localhost:8080/",
          "height": 105
        },
        "outputId": "53b3b90f-a945-4069-8490-8f309c769452"
      },
      "source": [
        "print(x_scale)"
      ],
      "execution_count": null,
      "outputs": [
        {
          "output_type": "stream",
          "text": [
            "[[0.   ]\n",
            " [0.375]\n",
            " [0.5  ]\n",
            " [0.625]\n",
            " [1.   ]]\n"
          ],
          "name": "stdout"
        }
      ]
    },
    {
      "cell_type": "markdown",
      "metadata": {
        "id": "kMoayUpAH199",
        "colab_type": "text"
      },
      "source": [
        "#### StandardScaler & Z-score\n",
        "***z value - (Xi-Xmean)/Xstd***"
      ]
    },
    {
      "cell_type": "code",
      "metadata": {
        "id": "2jpGZJGVAWFW",
        "colab_type": "code",
        "colab": {}
      },
      "source": [
        "from sklearn.preprocessing import StandardScaler"
      ],
      "execution_count": null,
      "outputs": []
    },
    {
      "cell_type": "code",
      "metadata": {
        "id": "5yf3K8NWKv-d",
        "colab_type": "code",
        "colab": {
          "base_uri": "https://localhost:8080/",
          "height": 70
        },
        "outputId": "2e1044ba-05a0-4c2b-a5e5-a5e31b6a6cd3"
      },
      "source": [
        "x = np.arange(1,10).reshape(3,3)\n",
        "x"
      ],
      "execution_count": null,
      "outputs": [
        {
          "output_type": "execute_result",
          "data": {
            "text/plain": [
              "array([[1, 2, 3],\n",
              "       [4, 5, 6],\n",
              "       [7, 8, 9]])"
            ]
          },
          "metadata": {
            "tags": []
          },
          "execution_count": 9
        }
      ]
    },
    {
      "cell_type": "code",
      "metadata": {
        "id": "fzXHpPoYIJ7C",
        "colab_type": "code",
        "colab": {}
      },
      "source": [
        "scaler = StandardScaler()"
      ],
      "execution_count": null,
      "outputs": []
    },
    {
      "cell_type": "code",
      "metadata": {
        "id": "tUry0W_hMRTL",
        "colab_type": "code",
        "colab": {}
      },
      "source": [
        "x_scaled = scaler.fit_transform(x)"
      ],
      "execution_count": null,
      "outputs": []
    },
    {
      "cell_type": "code",
      "metadata": {
        "id": "Xfb81iwXMWwC",
        "colab_type": "code",
        "colab": {
          "base_uri": "https://localhost:8080/",
          "height": 70
        },
        "outputId": "71fa0962-8186-4777-c87c-0478e97b857d"
      },
      "source": [
        "x_scaled"
      ],
      "execution_count": null,
      "outputs": [
        {
          "output_type": "execute_result",
          "data": {
            "text/plain": [
              "array([[-1.22474487, -1.22474487, -1.22474487],\n",
              "       [ 0.        ,  0.        ,  0.        ],\n",
              "       [ 1.22474487,  1.22474487,  1.22474487]])"
            ]
          },
          "metadata": {
            "tags": []
          },
          "execution_count": 43
        }
      ]
    },
    {
      "cell_type": "code",
      "metadata": {
        "id": "Rvb5O2tAhiZz",
        "colab_type": "code",
        "colab": {
          "base_uri": "https://localhost:8080/",
          "height": 70
        },
        "outputId": "1eb32ecc-8b44-4fa6-e192-294f1065cfb7"
      },
      "source": [
        "from scipy import stats\n",
        "stats.zscore(x)"
      ],
      "execution_count": null,
      "outputs": [
        {
          "output_type": "execute_result",
          "data": {
            "text/plain": [
              "array([[-1.22474487, -1.22474487, -1.22474487],\n",
              "       [ 0.        ,  0.        ,  0.        ],\n",
              "       [ 1.22474487,  1.22474487,  1.22474487]])"
            ]
          },
          "metadata": {
            "tags": []
          },
          "execution_count": 48
        }
      ]
    },
    {
      "cell_type": "code",
      "metadata": {
        "id": "j95JAPyal_yW",
        "colab_type": "code",
        "colab": {}
      },
      "source": [
        "df = pd.DataFrame({'col1':np.random.normal(0,1,1000),'col2':np.random.normal(-3,5,1000)})"
      ],
      "execution_count": null,
      "outputs": []
    },
    {
      "cell_type": "code",
      "metadata": {
        "id": "FxdFuv33oBux",
        "colab_type": "code",
        "colab": {}
      },
      "source": [
        "scaler = StandardScaler()\n",
        "df_scaled =scaler.fit_transform(df.values)\n",
        "df_scale = pd.DataFrame(df_scaled, columns=['col1_transformed','col2_transformed']) "
      ],
      "execution_count": null,
      "outputs": []
    },
    {
      "cell_type": "code",
      "metadata": {
        "id": "V5aVq66JmqN5",
        "colab_type": "code",
        "colab": {
          "base_uri": "https://localhost:8080/",
          "height": 265
        },
        "outputId": "fbb73c4e-4c24-48c8-edae-aadf8212055b"
      },
      "source": [
        "figure, ax = plt.subplots(1,2,figsize=(15,4))\n",
        "\n",
        "\n",
        "sns.kdeplot(df['col1'],ax=ax[0])\n",
        "sns.kdeplot(df['col2'],ax=ax[0])\n",
        "\n",
        "sns.kdeplot(df_scale['col1_transformed'],ax=ax[1])\n",
        "sns.kdeplot(df_scale['col2_transformed'],ax=ax[1])\n",
        "plt.show()"
      ],
      "execution_count": null,
      "outputs": [
        {
          "output_type": "display_data",
          "data": {
            "image/png": "[encoded data removed]",
            "text/plain": [
              "<Figure size 1080x288 with 2 Axes>"
            ]
          },
          "metadata": {
            "tags": []
          }
        }
      ]
    },
    {
      "cell_type": "code",
      "metadata": {
        "id": "bjoySKXHqL06",
        "colab_type": "code",
        "colab": {
          "base_uri": "https://localhost:8080/",
          "height": 392
        },
        "outputId": "456e0fa0-df22-465c-ef83-91a718a766fb"
      },
      "source": [
        "plt.figure(figsize=(8,6))\n",
        "plt.scatter(x=df['col1'],y=df['col2'],label='Without Scaled')\n",
        "plt.scatter(x=df_scale['col1_transformed'],y=df_scale['col2_transformed'],label='Wit Scaled')\n",
        "plt.legend()"
      ],
      "execution_count": null,
      "outputs": [
        {
          "output_type": "execute_result",
          "data": {
            "text/plain": [
              "<matplotlib.legend.Legend at 0x7fc948690cf8>"
            ]
          },
          "metadata": {
            "tags": []
          },
          "execution_count": 92
        },
        {
          "output_type": "display_data",
          "data": {
            "image/png": "[encoded data removed]",
            "text/plain": [
              "<Figure size 576x432 with 1 Axes>"
            ]
          },
          "metadata": {
            "tags": []
          }
        }
      ]
    },
    {
      "cell_type": "markdown",
      "metadata": {
        "id": "jwYD56WnWUAT",
        "colab_type": "text"
      },
      "source": [
        "####Binarizer"
      ]
    },
    {
      "cell_type": "code",
      "metadata": {
        "id": "TLA0c4vvMYjy",
        "colab_type": "code",
        "colab": {}
      },
      "source": [
        "from sklearn.preprocessing import Binarizer"
      ],
      "execution_count": null,
      "outputs": []
    },
    {
      "cell_type": "code",
      "metadata": {
        "id": "1xgzrrbCd9AR",
        "colab_type": "code",
        "colab": {}
      },
      "source": [
        "scale = Binarizer(5) # 1 where no is greater than 5"
      ],
      "execution_count": null,
      "outputs": []
    },
    {
      "cell_type": "code",
      "metadata": {
        "id": "gieDG8WReBCM",
        "colab_type": "code",
        "colab": {}
      },
      "source": [
        "x_scaled = scale.fit_transform(x)"
      ],
      "execution_count": null,
      "outputs": []
    },
    {
      "cell_type": "code",
      "metadata": {
        "id": "-_gMoy0neNM7",
        "colab_type": "code",
        "colab": {
          "base_uri": "https://localhost:8080/",
          "height": 70
        },
        "outputId": "8e8dd404-49d0-4aa6-98d1-7760f5815bae"
      },
      "source": [
        "x_scaled"
      ],
      "execution_count": null,
      "outputs": [
        {
          "output_type": "execute_result",
          "data": {
            "text/plain": [
              "array([[0, 0, 0],\n",
              "       [0, 0, 1],\n",
              "       [1, 1, 1]])"
            ]
          },
          "metadata": {
            "tags": []
          },
          "execution_count": 18
        }
      ]
    },
    {
      "cell_type": "markdown",
      "metadata": {
        "id": "Hu2_z6ojfn6w",
        "colab_type": "text"
      },
      "source": [
        "####Normalizer"
      ]
    },
    {
      "cell_type": "code",
      "metadata": {
        "id": "glpGlg2GeQiM",
        "colab_type": "code",
        "colab": {}
      },
      "source": [
        "from sklearn.preprocessing import Normalizer"
      ],
      "execution_count": null,
      "outputs": []
    },
    {
      "cell_type": "code",
      "metadata": {
        "id": "EO6mu_ZFfucu",
        "colab_type": "code",
        "colab": {
          "base_uri": "https://localhost:8080/",
          "height": 70
        },
        "outputId": "7110e3b1-5b22-4ba2-8f30-4973aa037941"
      },
      "source": [
        "x"
      ],
      "execution_count": null,
      "outputs": [
        {
          "output_type": "execute_result",
          "data": {
            "text/plain": [
              "array([[1, 2, 3],\n",
              "       [4, 5, 6],\n",
              "       [7, 8, 9]])"
            ]
          },
          "metadata": {
            "tags": []
          },
          "execution_count": 22
        }
      ]
    },
    {
      "cell_type": "code",
      "metadata": {
        "id": "B-lrc58Cgfdr",
        "colab_type": "code",
        "colab": {}
      },
      "source": [
        "nrm = Normalizer()"
      ],
      "execution_count": null,
      "outputs": []
    },
    {
      "cell_type": "code",
      "metadata": {
        "id": "lyFASnczgitQ",
        "colab_type": "code",
        "colab": {}
      },
      "source": [
        "x_nrm =  nrm.fit_transform(x)"
      ],
      "execution_count": null,
      "outputs": []
    },
    {
      "cell_type": "code",
      "metadata": {
        "id": "HA1NjjdUgoSb",
        "colab_type": "code",
        "colab": {
          "base_uri": "https://localhost:8080/",
          "height": 70
        },
        "outputId": "ac33c9b2-04a2-43ba-b205-1ef2422eb5b7"
      },
      "source": [
        "x_nrm"
      ],
      "execution_count": null,
      "outputs": [
        {
          "output_type": "execute_result",
          "data": {
            "text/plain": [
              "array([[0.26726124, 0.53452248, 0.80178373],\n",
              "       [0.45584231, 0.56980288, 0.68376346],\n",
              "       [0.50257071, 0.57436653, 0.64616234]])"
            ]
          },
          "metadata": {
            "tags": []
          },
          "execution_count": 25
        }
      ]
    },
    {
      "cell_type": "code",
      "metadata": {
        "id": "5IidnUJDgpkL",
        "colab_type": "code",
        "colab": {
          "base_uri": "https://localhost:8080/",
          "height": 34
        },
        "outputId": "77b06a95-1ada-4685-8c15-23f3bc5f6cff"
      },
      "source": [
        "1/(np.sqrt((1**2)+(2**2)+(3**2)))"
      ],
      "execution_count": null,
      "outputs": [
        {
          "output_type": "execute_result",
          "data": {
            "text/plain": [
              "0.2672612419124244"
            ]
          },
          "metadata": {
            "tags": []
          },
          "execution_count": 37
        }
      ]
    },
    {
      "cell_type": "code",
      "metadata": {
        "id": "muTghrvXgyuL",
        "colab_type": "code",
        "colab": {
          "base_uri": "https://localhost:8080/",
          "height": 34
        },
        "outputId": "882ec76b-cc4c-4450-ef75-076be759fc3c"
      },
      "source": [
        "4/(np.sqrt((4**2)+(5**2)+(6**2)))"
      ],
      "execution_count": null,
      "outputs": [
        {
          "output_type": "execute_result",
          "data": {
            "text/plain": [
              "0.4558423058385518"
            ]
          },
          "metadata": {
            "tags": []
          },
          "execution_count": 38
        }
      ]
    },
    {
      "cell_type": "code",
      "metadata": {
        "id": "zHbomfsjg-PL",
        "colab_type": "code",
        "colab": {
          "base_uri": "https://localhost:8080/",
          "height": 34
        },
        "outputId": "b061e9c7-c137-413a-e001-fef515152aca"
      },
      "source": [
        "6/(np.sqrt((4**2)+(5**2)+(6**2)))"
      ],
      "execution_count": null,
      "outputs": [
        {
          "output_type": "execute_result",
          "data": {
            "text/plain": [
              "0.6837634587578276"
            ]
          },
          "metadata": {
            "tags": []
          },
          "execution_count": 39
        }
      ]
    },
    {
      "cell_type": "markdown",
      "metadata": {
        "id": "LKh3I0ydwkDV",
        "colab_type": "text"
      },
      "source": [
        "###***RobustScaler - Scale features using statistics that are robust to outliers***\n",
        "\n",
        "*Formual for Robust Scaler : (Xi - Q2) / (Q3 - Q1)*\n",
        "\n",
        "This Scaler removes the median and scales the data according to the quantile range \n",
        "(defaults to IQR: Interquartile Range). \n",
        "The IQR is the range between the 1st quartile (25th quantile) and the 3rd quartile (75th quantile).\n",
        "\n",
        "Centering and scaling happen independently on each feature (or each sample, depending on the \n",
        "axis argument) by computing the relevant statistics on the samples in the training set. \n",
        "Median and interquartile range are then stored to be used on later data using the transform method"
      ]
    },
    {
      "cell_type": "code",
      "metadata": {
        "id": "Y12X7qqZheVN",
        "colab_type": "code",
        "colab": {}
      },
      "source": [
        "from sklearn.preprocessing import RobustScaler"
      ],
      "execution_count": null,
      "outputs": []
    },
    {
      "cell_type": "code",
      "metadata": {
        "id": "0MbYEP31xV7p",
        "colab_type": "code",
        "colab": {
          "base_uri": "https://localhost:8080/",
          "height": 105
        },
        "outputId": "45854292-6dbd-4cd7-de87-182805493dad"
      },
      "source": [
        "x = np.array([-500,-100,0,100,900]).reshape(-1,1)\n",
        "x"
      ],
      "execution_count": null,
      "outputs": [
        {
          "output_type": "execute_result",
          "data": {
            "text/plain": [
              "array([[-500],\n",
              "       [-100],\n",
              "       [   0],\n",
              "       [ 100],\n",
              "       [ 900]])"
            ]
          },
          "metadata": {
            "tags": []
          },
          "execution_count": 96
        }
      ]
    },
    {
      "cell_type": "code",
      "metadata": {
        "id": "mcqvc5SsxcaW",
        "colab_type": "code",
        "colab": {}
      },
      "source": [
        "scaler = RobustScaler()"
      ],
      "execution_count": null,
      "outputs": []
    },
    {
      "cell_type": "code",
      "metadata": {
        "id": "bOKGvgr3xvaQ",
        "colab_type": "code",
        "colab": {}
      },
      "source": [
        "x_scaler = scaler.fit_transform(x)"
      ],
      "execution_count": null,
      "outputs": []
    },
    {
      "cell_type": "code",
      "metadata": {
        "id": "v1m256tGxzz2",
        "colab_type": "code",
        "colab": {
          "base_uri": "https://localhost:8080/",
          "height": 105
        },
        "outputId": "5a72ca56-28a0-4047-f5c8-5e684f0b28a9"
      },
      "source": [
        "x_scaler"
      ],
      "execution_count": null,
      "outputs": [
        {
          "output_type": "execute_result",
          "data": {
            "text/plain": [
              "array([[-2.5],\n",
              "       [-0.5],\n",
              "       [ 0. ],\n",
              "       [ 0.5],\n",
              "       [ 4.5]])"
            ]
          },
          "metadata": {
            "tags": []
          },
          "execution_count": 99
        }
      ]
    },
    {
      "cell_type": "code",
      "metadata": {
        "id": "cClFBcnZx1Ad",
        "colab_type": "code",
        "colab": {}
      },
      "source": [
        "Q1, Q2, Q3 = np.percentile(x,25), np.percentile(x,50), np.percentile(x,75)"
      ],
      "execution_count": null,
      "outputs": []
    },
    {
      "cell_type": "code",
      "metadata": {
        "id": "uuKvSRuLy0wD",
        "colab_type": "code",
        "colab": {
          "base_uri": "https://localhost:8080/",
          "height": 105
        },
        "outputId": "dff2fb0c-49db-4166-99e7-115cc1249830"
      },
      "source": [
        "(x-Q2)/(Q3-Q1)"
      ],
      "execution_count": null,
      "outputs": [
        {
          "output_type": "execute_result",
          "data": {
            "text/plain": [
              "array([[-2.5],\n",
              "       [-0.5],\n",
              "       [ 0. ],\n",
              "       [ 0.5],\n",
              "       [ 4.5]])"
            ]
          },
          "metadata": {
            "tags": []
          },
          "execution_count": 101
        }
      ]
    },
    {
      "cell_type": "markdown",
      "metadata": {
        "id": "cfLuFLDh5k82",
        "colab_type": "text"
      },
      "source": [
        "## All Standardization And Transformation Techniques"
      ]
    },
    {
      "cell_type": "markdown",
      "metadata": {
        "id": "wP8yUYxH55At",
        "colab_type": "text"
      },
      "source": [
        "####1. Normalization & Standardization\n",
        "####2. Scaling to Minimum & Maximum Values\n",
        "####3. Scaling to Median & Quantiles\n",
        "####4. Guassian Transformation\n",
        "  1. Logarithmic Transformation\n",
        "  2. Reciprocal Transformation \n",
        "  3. Square Root Transformation\n",
        "  4. Exponential Transformation\n",
        "  5. Box Cox Transformation"
      ]
    },
    {
      "cell_type": "code",
      "metadata": {
        "id": "zQUO8JeR9yKR",
        "colab_type": "code",
        "colab": {}
      },
      "source": [
        "from sklearn.preprocessing import StandardScaler\n",
        "from sklearn.preprocessing import MinMaxScaler\n",
        "from sklearn.preprocessing import RobustScaler\n",
        "\n",
        "import pandas as pd\n",
        "import numpy as np\n",
        "import matplotlib.pyplot as plt\n",
        "import pylab\n",
        "import scipy.stats as stat"
      ],
      "execution_count": 1,
      "outputs": []
    },
    {
      "cell_type": "code",
      "metadata": {
        "id": "Us0NA4tCzKuV",
        "colab_type": "code",
        "colab": {}
      },
      "source": [
        "df = pd.read_csv('train.csv',usecols=['Survived','Pclass', 'Age','Fare'])"
      ],
      "execution_count": 2,
      "outputs": []
    },
    {
      "cell_type": "code",
      "metadata": {
        "id": "mHzgXCUf9saM",
        "colab_type": "code",
        "colab": {
          "base_uri": "https://localhost:8080/",
          "height": 195
        },
        "outputId": "aad40318-5dc4-43bd-fb38-a3cf4fc67af4"
      },
      "source": [
        "df.head()"
      ],
      "execution_count": null,
      "outputs": [
        {
          "output_type": "execute_result",
          "data": {
            "text/html": [
              "<div>\n",
              "<style scoped>\n",
              "    .dataframe tbody tr th:only-of-type {\n",
              "        vertical-align: middle;\n",
              "    }\n",
              "\n",
              "    .dataframe tbody tr th {\n",
              "        vertical-align: top;\n",
              "    }\n",
              "\n",
              "    .dataframe thead th {\n",
              "        text-align: right;\n",
              "    }\n",
              "</style>\n",
              "<table border=\"1\" class=\"dataframe\">\n",
              "  <thead>\n",
              "    <tr style=\"text-align: right;\">\n",
              "      <th></th>\n",
              "      <th>Survived</th>\n",
              "      <th>Pclass</th>\n",
              "      <th>Age</th>\n",
              "      <th>Fare</th>\n",
              "    </tr>\n",
              "  </thead>\n",
              "  <tbody>\n",
              "    <tr>\n",
              "      <th>0</th>\n",
              "      <td>0</td>\n",
              "      <td>3</td>\n",
              "      <td>22.0</td>\n",
              "      <td>7.2500</td>\n",
              "    </tr>\n",
              "    <tr>\n",
              "      <th>1</th>\n",
              "      <td>1</td>\n",
              "      <td>1</td>\n",
              "      <td>38.0</td>\n",
              "      <td>71.2833</td>\n",
              "    </tr>\n",
              "    <tr>\n",
              "      <th>2</th>\n",
              "      <td>1</td>\n",
              "      <td>3</td>\n",
              "      <td>26.0</td>\n",
              "      <td>7.9250</td>\n",
              "    </tr>\n",
              "    <tr>\n",
              "      <th>3</th>\n",
              "      <td>1</td>\n",
              "      <td>1</td>\n",
              "      <td>35.0</td>\n",
              "      <td>53.1000</td>\n",
              "    </tr>\n",
              "    <tr>\n",
              "      <th>4</th>\n",
              "      <td>0</td>\n",
              "      <td>3</td>\n",
              "      <td>35.0</td>\n",
              "      <td>8.0500</td>\n",
              "    </tr>\n",
              "  </tbody>\n",
              "</table>\n",
              "</div>"
            ],
            "text/plain": [
              "   Survived  Pclass   Age     Fare\n",
              "0         0       3  22.0   7.2500\n",
              "1         1       1  38.0  71.2833\n",
              "2         1       3  26.0   7.9250\n",
              "3         1       1  35.0  53.1000\n",
              "4         0       3  35.0   8.0500"
            ]
          },
          "metadata": {
            "tags": []
          },
          "execution_count": 139
        }
      ]
    },
    {
      "cell_type": "code",
      "metadata": {
        "id": "5yjzc0ww-CzB",
        "colab_type": "code",
        "colab": {
          "base_uri": "https://localhost:8080/",
          "height": 105
        },
        "outputId": "b4f0522a-6def-4e82-be74-45577f6d6381"
      },
      "source": [
        "df.isnull().sum()"
      ],
      "execution_count": null,
      "outputs": [
        {
          "output_type": "execute_result",
          "data": {
            "text/plain": [
              "Survived      0\n",
              "Pclass        0\n",
              "Age         177\n",
              "Fare          0\n",
              "dtype: int64"
            ]
          },
          "metadata": {
            "tags": []
          },
          "execution_count": 115
        }
      ]
    },
    {
      "cell_type": "code",
      "metadata": {
        "id": "DdGKsEk2-GNq",
        "colab_type": "code",
        "colab": {}
      },
      "source": [
        "df['Age'] = df['Age'].fillna(df.Age.median())"
      ],
      "execution_count": 3,
      "outputs": []
    },
    {
      "cell_type": "markdown",
      "metadata": {
        "id": "d70TndmZOGoi",
        "colab_type": "text"
      },
      "source": [
        "###***1. StandardScaler***"
      ]
    },
    {
      "cell_type": "code",
      "metadata": {
        "id": "p6c-K1Xy9upp",
        "colab_type": "code",
        "colab": {}
      },
      "source": [
        "scaler = StandardScaler()"
      ],
      "execution_count": null,
      "outputs": []
    },
    {
      "cell_type": "code",
      "metadata": {
        "id": "9d2ziAH495Uq",
        "colab_type": "code",
        "colab": {}
      },
      "source": [
        "# Column wise Standardization"
      ],
      "execution_count": null,
      "outputs": []
    },
    {
      "cell_type": "markdown",
      "metadata": {
        "id": "EUqGwuNOMWS5",
        "colab_type": "text"
      },
      "source": [
        "Column wise Standardization"
      ]
    },
    {
      "cell_type": "code",
      "metadata": {
        "id": "4Kxqxivz-6hm",
        "colab_type": "code",
        "colab": {
          "base_uri": "https://localhost:8080/",
          "height": 195
        },
        "outputId": "23c8ffd3-ddfb-481a-b374-4a30ea16b19b"
      },
      "source": [
        "df_scaled = scaler.fit_transform(df)\n",
        "pd.DataFrame(df_scaled).head()"
      ],
      "execution_count": null,
      "outputs": [
        {
          "output_type": "execute_result",
          "data": {
            "text/html": [
              "<div>\n",
              "<style scoped>\n",
              "    .dataframe tbody tr th:only-of-type {\n",
              "        vertical-align: middle;\n",
              "    }\n",
              "\n",
              "    .dataframe tbody tr th {\n",
              "        vertical-align: top;\n",
              "    }\n",
              "\n",
              "    .dataframe thead th {\n",
              "        text-align: right;\n",
              "    }\n",
              "</style>\n",
              "<table border=\"1\" class=\"dataframe\">\n",
              "  <thead>\n",
              "    <tr style=\"text-align: right;\">\n",
              "      <th></th>\n",
              "      <th>0</th>\n",
              "      <th>1</th>\n",
              "      <th>2</th>\n",
              "      <th>3</th>\n",
              "    </tr>\n",
              "  </thead>\n",
              "  <tbody>\n",
              "    <tr>\n",
              "      <th>0</th>\n",
              "      <td>-0.789272</td>\n",
              "      <td>0.827377</td>\n",
              "      <td>-0.565736</td>\n",
              "      <td>-0.502445</td>\n",
              "    </tr>\n",
              "    <tr>\n",
              "      <th>1</th>\n",
              "      <td>1.266990</td>\n",
              "      <td>-1.566107</td>\n",
              "      <td>0.663861</td>\n",
              "      <td>0.786845</td>\n",
              "    </tr>\n",
              "    <tr>\n",
              "      <th>2</th>\n",
              "      <td>1.266990</td>\n",
              "      <td>0.827377</td>\n",
              "      <td>-0.258337</td>\n",
              "      <td>-0.488854</td>\n",
              "    </tr>\n",
              "    <tr>\n",
              "      <th>3</th>\n",
              "      <td>1.266990</td>\n",
              "      <td>-1.566107</td>\n",
              "      <td>0.433312</td>\n",
              "      <td>0.420730</td>\n",
              "    </tr>\n",
              "    <tr>\n",
              "      <th>4</th>\n",
              "      <td>-0.789272</td>\n",
              "      <td>0.827377</td>\n",
              "      <td>0.433312</td>\n",
              "      <td>-0.486337</td>\n",
              "    </tr>\n",
              "  </tbody>\n",
              "</table>\n",
              "</div>"
            ],
            "text/plain": [
              "          0         1         2         3\n",
              "0 -0.789272  0.827377 -0.565736 -0.502445\n",
              "1  1.266990 -1.566107  0.663861  0.786845\n",
              "2  1.266990  0.827377 -0.258337 -0.488854\n",
              "3  1.266990 -1.566107  0.433312  0.420730\n",
              "4 -0.789272  0.827377  0.433312 -0.486337"
            ]
          },
          "metadata": {
            "tags": []
          },
          "execution_count": 160
        }
      ]
    },
    {
      "cell_type": "markdown",
      "metadata": {
        "id": "tar7jTLGOQEP",
        "colab_type": "text"
      },
      "source": [
        "#### ***2. Min Max Scaling (# CNN) -- Deep learning Technique***\n",
        "X_scaled = (X - X.min)/(X.max - X.min)"
      ]
    },
    {
      "cell_type": "code",
      "metadata": {
        "id": "GafPmT-ePahb",
        "colab_type": "code",
        "colab": {}
      },
      "source": [
        "df['Age'] = df['Age'].astype(np.float64)"
      ],
      "execution_count": null,
      "outputs": []
    },
    {
      "cell_type": "code",
      "metadata": {
        "id": "Q_Hw-4YBMJRk",
        "colab_type": "code",
        "colab": {
          "base_uri": "https://localhost:8080/",
          "height": 195
        },
        "outputId": "10ae70b7-46f2-41e6-c793-8a604d869e94"
      },
      "source": [
        "min_max = MinMaxScaler()\n",
        "pd.DataFrame(min_max.fit_transform(df)).head()"
      ],
      "execution_count": null,
      "outputs": [
        {
          "output_type": "execute_result",
          "data": {
            "text/html": [
              "<div>\n",
              "<style scoped>\n",
              "    .dataframe tbody tr th:only-of-type {\n",
              "        vertical-align: middle;\n",
              "    }\n",
              "\n",
              "    .dataframe tbody tr th {\n",
              "        vertical-align: top;\n",
              "    }\n",
              "\n",
              "    .dataframe thead th {\n",
              "        text-align: right;\n",
              "    }\n",
              "</style>\n",
              "<table border=\"1\" class=\"dataframe\">\n",
              "  <thead>\n",
              "    <tr style=\"text-align: right;\">\n",
              "      <th></th>\n",
              "      <th>0</th>\n",
              "      <th>1</th>\n",
              "      <th>2</th>\n",
              "      <th>3</th>\n",
              "    </tr>\n",
              "  </thead>\n",
              "  <tbody>\n",
              "    <tr>\n",
              "      <th>0</th>\n",
              "      <td>0.0</td>\n",
              "      <td>1.0</td>\n",
              "      <td>0.271174</td>\n",
              "      <td>0.014151</td>\n",
              "    </tr>\n",
              "    <tr>\n",
              "      <th>1</th>\n",
              "      <td>1.0</td>\n",
              "      <td>0.0</td>\n",
              "      <td>0.472229</td>\n",
              "      <td>0.139136</td>\n",
              "    </tr>\n",
              "    <tr>\n",
              "      <th>2</th>\n",
              "      <td>1.0</td>\n",
              "      <td>1.0</td>\n",
              "      <td>0.321438</td>\n",
              "      <td>0.015469</td>\n",
              "    </tr>\n",
              "    <tr>\n",
              "      <th>3</th>\n",
              "      <td>1.0</td>\n",
              "      <td>0.0</td>\n",
              "      <td>0.434531</td>\n",
              "      <td>0.103644</td>\n",
              "    </tr>\n",
              "    <tr>\n",
              "      <th>4</th>\n",
              "      <td>0.0</td>\n",
              "      <td>1.0</td>\n",
              "      <td>0.434531</td>\n",
              "      <td>0.015713</td>\n",
              "    </tr>\n",
              "  </tbody>\n",
              "</table>\n",
              "</div>"
            ],
            "text/plain": [
              "     0    1         2         3\n",
              "0  0.0  1.0  0.271174  0.014151\n",
              "1  1.0  0.0  0.472229  0.139136\n",
              "2  1.0  1.0  0.321438  0.015469\n",
              "3  1.0  0.0  0.434531  0.103644\n",
              "4  0.0  1.0  0.434531  0.015713"
            ]
          },
          "metadata": {
            "tags": []
          },
          "execution_count": 7
        }
      ]
    },
    {
      "cell_type": "markdown",
      "metadata": {
        "id": "VvvVnTg5a4k-",
        "colab_type": "text"
      },
      "source": [
        "#### ***3. Robust Scaler***\n",
        "It is used to Scale the feature to median and Quantiles\n",
        "\n",
        "X_scaled = (X - X.median)/IQR   \n",
        "**IQR = 75th Quantile - 25th Quantile**"
      ]
    },
    {
      "cell_type": "code",
      "metadata": {
        "id": "s9u67w02a3Ft",
        "colab_type": "code",
        "colab": {
          "base_uri": "https://localhost:8080/",
          "height": 195
        },
        "outputId": "cd91647c-2b5d-484b-ecd4-f0d2c60a5dfb"
      },
      "source": [
        "robust_scale = RobustScaler()\n",
        "pd.DataFrame(robust_scale.fit_transform(df)).head()"
      ],
      "execution_count": null,
      "outputs": [
        {
          "output_type": "execute_result",
          "data": {
            "text/html": [
              "<div>\n",
              "<style scoped>\n",
              "    .dataframe tbody tr th:only-of-type {\n",
              "        vertical-align: middle;\n",
              "    }\n",
              "\n",
              "    .dataframe tbody tr th {\n",
              "        vertical-align: top;\n",
              "    }\n",
              "\n",
              "    .dataframe thead th {\n",
              "        text-align: right;\n",
              "    }\n",
              "</style>\n",
              "<table border=\"1\" class=\"dataframe\">\n",
              "  <thead>\n",
              "    <tr style=\"text-align: right;\">\n",
              "      <th></th>\n",
              "      <th>0</th>\n",
              "      <th>1</th>\n",
              "      <th>2</th>\n",
              "      <th>3</th>\n",
              "    </tr>\n",
              "  </thead>\n",
              "  <tbody>\n",
              "    <tr>\n",
              "      <th>0</th>\n",
              "      <td>0.0</td>\n",
              "      <td>0.0</td>\n",
              "      <td>-0.461538</td>\n",
              "      <td>-0.312011</td>\n",
              "    </tr>\n",
              "    <tr>\n",
              "      <th>1</th>\n",
              "      <td>1.0</td>\n",
              "      <td>-2.0</td>\n",
              "      <td>0.769231</td>\n",
              "      <td>2.461242</td>\n",
              "    </tr>\n",
              "    <tr>\n",
              "      <th>2</th>\n",
              "      <td>1.0</td>\n",
              "      <td>0.0</td>\n",
              "      <td>-0.153846</td>\n",
              "      <td>-0.282777</td>\n",
              "    </tr>\n",
              "    <tr>\n",
              "      <th>3</th>\n",
              "      <td>1.0</td>\n",
              "      <td>-2.0</td>\n",
              "      <td>0.538462</td>\n",
              "      <td>1.673732</td>\n",
              "    </tr>\n",
              "    <tr>\n",
              "      <th>4</th>\n",
              "      <td>0.0</td>\n",
              "      <td>0.0</td>\n",
              "      <td>0.538462</td>\n",
              "      <td>-0.277363</td>\n",
              "    </tr>\n",
              "  </tbody>\n",
              "</table>\n",
              "</div>"
            ],
            "text/plain": [
              "     0    1         2         3\n",
              "0  0.0  0.0 -0.461538 -0.312011\n",
              "1  1.0 -2.0  0.769231  2.461242\n",
              "2  1.0  0.0 -0.153846 -0.282777\n",
              "3  1.0 -2.0  0.538462  1.673732\n",
              "4  0.0  0.0  0.538462 -0.277363"
            ]
          },
          "metadata": {
            "tags": []
          },
          "execution_count": 13
        }
      ]
    },
    {
      "cell_type": "markdown",
      "metadata": {
        "id": "ZO-wpDrNkiFU",
        "colab_type": "text"
      },
      "source": [
        "####***4. Guassian Transformation***"
      ]
    },
    {
      "cell_type": "code",
      "metadata": {
        "id": "b-5e3IJRPzS-",
        "colab_type": "code",
        "colab": {}
      },
      "source": [
        "def qqplot(data,features):\n",
        "  plt.figure(figsize=(15,6))\n",
        "  plt.subplot(1,2,1)\n",
        "  plt.hist(df[features])\n",
        "  plt.title('Histogram')\n",
        "  plt.subplot(1,2,2)\n",
        "  stat.probplot(df[features],dist='norm',plot=pylab)"
      ],
      "execution_count": 17,
      "outputs": []
    },
    {
      "cell_type": "code",
      "metadata": {
        "id": "0A1yR53Mnx1C",
        "colab_type": "code",
        "colab": {
          "base_uri": "https://localhost:8080/",
          "height": 404
        },
        "outputId": "ced37f25-99d7-4e5e-f4f3-315e317810d4"
      },
      "source": [
        "qqplot(df,'Age')"
      ],
      "execution_count": null,
      "outputs": [
        {
          "output_type": "display_data",
          "data": {
            "image/png": "[encoded data removed]",
            "text/plain": [
              "<Figure size 1080x432 with 2 Axes>"
            ]
          },
          "metadata": {
            "tags": []
          }
        }
      ]
    },
    {
      "cell_type": "markdown",
      "metadata": {
        "id": "b2S343LPpO-L",
        "colab_type": "text"
      },
      "source": [
        "##### Logarithmic Transformation"
      ]
    },
    {
      "cell_type": "code",
      "metadata": {
        "id": "E_BV5mJOn5VO",
        "colab_type": "code",
        "colab": {
          "base_uri": "https://localhost:8080/",
          "height": 404
        },
        "outputId": "bf850ce8-c4c1-4c67-d7bb-3e60dc447c5c"
      },
      "source": [
        "df['Age_log'] = np.log(df['Age'])\n",
        "qqplot(df,'Age_log')"
      ],
      "execution_count": null,
      "outputs": [
        {
          "output_type": "display_data",
          "data": {
            "image/png": "[encoded data removed]",
            "text/plain": [
              "<Figure size 1080x432 with 2 Axes>"
            ]
          },
          "metadata": {
            "tags": []
          }
        }
      ]
    },
    {
      "cell_type": "markdown",
      "metadata": {
        "id": "o801a8KRsfu4",
        "colab_type": "text"
      },
      "source": [
        "##### Reciprocal Transformation"
      ]
    },
    {
      "cell_type": "code",
      "metadata": {
        "id": "-4bQLXPXqLqJ",
        "colab_type": "code",
        "colab": {
          "base_uri": "https://localhost:8080/",
          "height": 404
        },
        "outputId": "3d2e91ca-b412-4c61-8607-750160318ada"
      },
      "source": [
        "df['Age_reciprocal'] = 1/df.Age\n",
        "qqplot(df,'Age_reciprocal')"
      ],
      "execution_count": null,
      "outputs": [
        {
          "output_type": "display_data",
          "data": {
            "image/png": "[encoded data removed]",
            "text/plain": [
              "<Figure size 1080x432 with 2 Axes>"
            ]
          },
          "metadata": {
            "tags": []
          }
        }
      ]
    },
    {
      "cell_type": "markdown",
      "metadata": {
        "id": "PumJg1XA4II3",
        "colab_type": "text"
      },
      "source": [
        "##### Square Root Transformation"
      ]
    },
    {
      "cell_type": "code",
      "metadata": {
        "id": "nmA2sWJyq7IE",
        "colab_type": "code",
        "colab": {
          "base_uri": "https://localhost:8080/",
          "height": 404
        },
        "outputId": "340418aa-f80a-4af0-f4a1-e6bc71c5f8ce"
      },
      "source": [
        "df['Age_square'] = np.sqrt(df.Age)\n",
        "qqplot(df,'Age_square')"
      ],
      "execution_count": null,
      "outputs": [
        {
          "output_type": "display_data",
          "data": {
            "image/png": "[encoded data removed]",
            "text/plain": [
              "<Figure size 1080x432 with 2 Axes>"
            ]
          },
          "metadata": {
            "tags": []
          }
        }
      ]
    },
    {
      "cell_type": "markdown",
      "metadata": {
        "id": "4Xp361Rt6-Od",
        "colab_type": "text"
      },
      "source": [
        "######Exponential Transformation"
      ]
    },
    {
      "cell_type": "code",
      "metadata": {
        "id": "-Axdmbn4r3C4",
        "colab_type": "code",
        "colab": {
          "base_uri": "https://localhost:8080/",
          "height": 404
        },
        "outputId": "44583b31-7e4e-4166-db74-f0b1f6d0e86f"
      },
      "source": [
        "df['Age_exponential'] = df['Age']**(1/1.2)\n",
        "qqplot(df,'Age_exponential')"
      ],
      "execution_count": null,
      "outputs": [
        {
          "output_type": "display_data",
          "data": {
            "image/png": "[encoded data removed]",
            "text/plain": [
              "<Figure size 1080x432 with 2 Axes>"
            ]
          },
          "metadata": {
            "tags": []
          }
        }
      ]
    },
    {
      "cell_type": "code",
      "metadata": {
        "id": "QJk9DBfC8ZYz",
        "colab_type": "code",
        "colab": {
          "base_uri": "https://localhost:8080/",
          "height": 404
        },
        "outputId": "23c51ba0-16cf-4937-89eb-95e552e1136e"
      },
      "source": [
        "df['Age_exponential'] = df['Age'].apply(np.exp)\n",
        "qqplot(df,'Age_exponential')"
      ],
      "execution_count": null,
      "outputs": [
        {
          "output_type": "display_data",
          "data": {
            "image/png": "[encoded data removed]",
            "text/plain": [
              "<Figure size 1080x432 with 2 Axes>"
            ]
          },
          "metadata": {
            "tags": []
          }
        }
      ]
    },
    {
      "cell_type": "markdown",
      "metadata": {
        "id": "84XUtR1dv8SM",
        "colab_type": "text"
      },
      "source": [
        "#####Box Cox Transformation\n",
        "\n",
        "The Box-Cox transformation is defined as:\n",
        "\n",
        "T(Y)=(Y exp(λ)−1)/λ\n",
        "\n",
        "where Y is the response variable and λ is the transformation parameter. λ varies from -5 to 5. In the transformation, all values of λ are considered and the optimal value for a given variable is selected."
      ]
    },
    {
      "cell_type": "code",
      "metadata": {
        "id": "DlRcZTJ09hUQ",
        "colab_type": "code",
        "colab": {
          "base_uri": "https://localhost:8080/",
          "height": 34
        },
        "outputId": "0550f998-60e6-4b7f-c325-8ea6a052f99a"
      },
      "source": [
        "df['Age_box_cox'],parameters = stat.boxcox(df['Age'])\n",
        "print(parameters)"
      ],
      "execution_count": 16,
      "outputs": [
        {
          "output_type": "stream",
          "text": [
            "0.7964531473656952\n"
          ],
          "name": "stdout"
        }
      ]
    },
    {
      "cell_type": "code",
      "metadata": {
        "id": "tYibo0NHwvC5",
        "colab_type": "code",
        "colab": {
          "base_uri": "https://localhost:8080/",
          "height": 404
        },
        "outputId": "3767c616-ddb3-4769-c1f1-66e1848e11b5"
      },
      "source": [
        "qqplot(df,'Age_box_cox')"
      ],
      "execution_count": 23,
      "outputs": [
        {
          "output_type": "display_data",
          "data": {
            "image/png": "[encoded data removed]",
            "text/plain": [
              "<Figure size 1080x432 with 2 Axes>"
            ]
          },
          "metadata": {
            "tags": []
          }
        }
      ]
    },
    {
      "cell_type": "code",
      "metadata": {
        "id": "2e4p90zFNacJ",
        "colab_type": "code",
        "colab": {}
      },
      "source": [
        ""
      ],
      "execution_count": null,
      "outputs": []
    }
  ]
}